{
 "cells": [
  {
   "cell_type": "code",
   "execution_count": 2,
   "id": "56b7fcd0",
   "metadata": {},
   "outputs": [],
   "source": [
    "\n",
    "\n",
    "with open(\"../millionsongsubsetcountries.csv\") as f:\n",
    "    a = f.readlines()\n",
    "\n",
    "with open(\"../millionsongsubsetinflated_quarter.csv\", 'w') as r:\n",
    "    r.write(a[0])\n",
    "    for i in range(250):\n",
    "        for line in a[1:]:\n",
    "            r.write(line)"
   ]
  },
  {
   "cell_type": "code",
   "execution_count": null,
   "id": "2498da05",
   "metadata": {},
   "outputs": [],
   "source": [
    "with open(\"../millionsongsubsetinflated_half.csv\") as f:\n",
    "    a = f.readlines()\n",
    "    \n",
    "print(len(a))\n",
    "print(a[22222])"
   ]
  }
 ],
 "metadata": {
  "kernelspec": {
   "display_name": "Python 3 (ipykernel)",
   "language": "python",
   "name": "python3"
  },
  "language_info": {
   "codemirror_mode": {
    "name": "ipython",
    "version": 3
   },
   "file_extension": ".py",
   "mimetype": "text/x-python",
   "name": "python",
   "nbconvert_exporter": "python",
   "pygments_lexer": "ipython3",
   "version": "3.10.6"
  }
 },
 "nbformat": 4,
 "nbformat_minor": 5
}
