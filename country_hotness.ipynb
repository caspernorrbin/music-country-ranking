{
 "cells": [
  {
   "cell_type": "code",
   "execution_count": 1,
   "id": "018d0ad7",
   "metadata": {},
   "outputs": [],
   "source": [
    "from pyspark import SparkContext\n",
    "from pyspark.sql import SparkSession, SQLContext\n",
    "from pyspark.sql.functions import udf, col, sum, avg, count, max, when, desc, asc, lit\n",
    "from pyspark.sql.types import StringType, DoubleType, FloatType\n",
    "\n",
    "import os\n",
    "import numpy as np\n",
    "import pandas as pd\n",
    "import tables\n",
    "import time"
   ]
  },
  {
   "cell_type": "code",
   "execution_count": 2,
   "id": "2671a758",
   "metadata": {},
   "outputs": [],
   "source": [
    "spark = SparkSession.builder \\\n",
    "    .appName(\"country_hotness\") \\\n",
    "    .config(\"spark.master\", \"yarn\") \\\n",
    "    .config(\"spark.submit.deployMode\", \"client\") \\\n",
    "    .config(\"spark.executor.cores\", 1)\\\n",
    "    .config(\"spark.cores.max\", 1)\\\n",
    "    .getOrCreate()\n",
    "\n",
    "sc = spark.sparkContext\n",
    "sqlContext = SQLContext(sc)\n"
   ]
  },
  {
   "cell_type": "code",
   "execution_count": 3,
   "id": "56a58b64",
   "metadata": {},
   "outputs": [],
   "source": [
    "start_time = time.time()"
   ]
  },
  {
   "cell_type": "code",
   "execution_count": 4,
   "id": "d75b11a8",
   "metadata": {
    "scrolled": false
   },
   "outputs": [],
   "source": [
    "df = sqlContext.read.csv(\"hdfs://Group10-master:9000/user/hadoop/millionsongsubsetinflated.csv\",\n",
    "                        header='true', inferSchema='true')\n",
    "\n",
    "df.show(vertical = True)"
   ]
  },
  {
   "cell_type": "code",
   "execution_count": 5,
   "id": "1a78de00",
   "metadata": {},
   "outputs": [],
   "source": [
    "df_filtered = df.filter(\"Country is not null\").filter(\"Hotttness > 0\")\n",
    "\n",
    "df_filtered.show(1, vertical = True)\n",
    "df_filtered.count()"
   ]
  },
  {
   "cell_type": "code",
   "execution_count": 6,
   "id": "d1441451",
   "metadata": {},
   "outputs": [],
   "source": [
    "\n",
    "\n",
    "df_grouped = df_filtered.groupBy(\"Country\")"
   ]
  },
  {
   "cell_type": "code",
   "execution_count": 7,
   "id": "98f8edce",
   "metadata": {},
   "outputs": [],
   "source": [
    "df_top_sum = df_grouped.agg(sum(\"Hotttness\").alias(\"total_hotness\"), count(\"Country\").alias(\"count\"))\n",
    "\n",
    "df_top_sum.sort(desc(\"total_hotness\")).show()"
   ]
  },
  {
   "cell_type": "code",
   "execution_count": 8,
   "id": "95a204b3",
   "metadata": {},
   "outputs": [],
   "source": [
    "df_grouped_avg = df_grouped.agg(avg(\"Hotttness\").alias(\"average_hotness\"), count(\"Country\").alias(\"count\"))\n",
    "\n",
    "df_grouped_avg.sort(desc(\"average_hotness\")).show()"
   ]
  },
  {
   "cell_type": "code",
   "execution_count": 9,
   "id": "04250921",
   "metadata": {},
   "outputs": [],
   "source": [
    "df_grouped_filtered = df_grouped_avg.filter(\"`count` >= 5\")\n",
    "\n",
    "df_grouped_filtered.sort(desc(\"average_hotness\")).show()"
   ]
  },
  {
   "cell_type": "code",
   "execution_count": 10,
   "id": "841e6a54",
   "metadata": {},
   "outputs": [],
   "source": [
    "df_grouped_avg.sort(asc(\"average_hotness\")).show()"
   ]
  },
  {
   "cell_type": "code",
   "execution_count": 11,
   "id": "7edc8b0a",
   "metadata": {},
   "outputs": [],
   "source": [
    "df_grouped_filtered.sort(asc(\"average_hotness\")).show()"
   ]
  },
  {
   "cell_type": "code",
   "execution_count": 12,
   "id": "01414d00",
   "metadata": {},
   "outputs": [],
   "source": [
    "# Check that total count is correct\n",
    "df_grouped_avg.groupBy().sum().collect()"
   ]
  },
  {
   "cell_type": "code",
   "execution_count": 13,
   "id": "78ebccee",
   "metadata": {},
   "outputs": [],
   "source": [
    "print(\"Time taken: \", time.time() - start_time)"
   ]
  },
  {
   "cell_type": "code",
   "execution_count": 14,
   "id": "bf4c8f60",
   "metadata": {},
   "outputs": [],
   "source": [
    "sc.stop()"
   ]
  },
  {
   "cell_type": "code",
   "execution_count": null,
   "id": "cdaa7a37",
   "metadata": {},
   "outputs": [],
   "source": []
  }
 ],
 "metadata": {
  "kernelspec": {
   "display_name": "Python 3 (ipykernel)",
   "language": "python",
   "name": "python3"
  },
  "language_info": {
   "codemirror_mode": {
    "name": "ipython",
    "version": 3
   },
   "file_extension": ".py",
   "mimetype": "text/x-python",
   "name": "python",
   "nbconvert_exporter": "python",
   "pygments_lexer": "ipython3",
   "version": "3.10.6"
  }
 },
 "nbformat": 4,
 "nbformat_minor": 5
}
