{
 "cells": [
  {
   "cell_type": "code",
   "execution_count": 3,
   "id": "b798809b",
   "metadata": {},
   "outputs": [],
   "source": [
    "from find_country import find_country\n",
    "import time\n",
    "import json"
   ]
  },
  {
   "cell_type": "code",
   "execution_count": 19,
   "id": "2ac7a158",
   "metadata": {},
   "outputs": [
    {
     "name": "stdout",
     "output_type": "stream",
     "text": [
      "India\n",
      "time taken:  0.6153885300000042\n"
     ]
    }
   ],
   "source": [
    "# Latitude & Longitude input\n",
    "latitude = \"25.594095\"\n",
    "longitude = \"85.137566\"\n",
    " \n",
    "time1 = time.process_time()\n",
    "\n",
    "with open('customlow.geojson') as f:\n",
    "        gjs = json.load(f)\n",
    " \n",
    "# Display\n",
    "for i in range(50):\n",
    "    location = find_country(latitude, longitude, gjs)\n",
    "print(location)\n",
    "\n",
    "print(\"time taken: \", time.process_time() - time1)"
   ]
  },
  {
   "cell_type": "code",
   "execution_count": null,
   "id": "e14642c2",
   "metadata": {},
   "outputs": [],
   "source": []
  }
 ],
 "metadata": {
  "kernelspec": {
   "display_name": "Python 3 (ipykernel)",
   "language": "python",
   "name": "python3"
  },
  "language_info": {
   "codemirror_mode": {
    "name": "ipython",
    "version": 3
   },
   "file_extension": ".py",
   "mimetype": "text/x-python",
   "name": "python",
   "nbconvert_exporter": "python",
   "pygments_lexer": "ipython3",
   "version": "3.10.6"
  }
 },
 "nbformat": 4,
 "nbformat_minor": 5
}
